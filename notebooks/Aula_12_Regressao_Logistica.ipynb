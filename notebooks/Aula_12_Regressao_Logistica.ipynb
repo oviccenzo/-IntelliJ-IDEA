{
  "cells": [
    {
      "cell_type": "markdown",
      "metadata": {
        "id": "soeNc7aR8rxB"
      },
      "source": [
        "[![Binder](https://mybinder.org/badge_logo.svg)](https://mybinder.org/v2/gh/storopoli/ciencia-de-dados/main?filepath=notebooks%2FAula_12_Regressao_Logistica.ipynb)\n",
        "<br>\n",
        "[![Open In Colab](https://colab.research.google.com/assets/colab-badge.svg)](https://colab.research.google.com/github/storopoli/ciencia-de-dados/blob/main/notebooks/Aula_12_Regressao_Logistica.ipynb)"
      ]
    },
    {
      "cell_type": "markdown",
      "metadata": {
        "id": "CV0tOyoi8rxD"
      },
      "source": [
        "# Regressão Logística\n",
        "\n",
        "**Objetivos**: Aprender o que é Regressão Logística e Regressão Softmax usando a biblioteca `Scikit-Learn`. Introduzir o aluno aos problemas de classificação de aprendizagem de máquina."
      ]
    },
    {
      "cell_type": "markdown",
      "metadata": {
        "id": "8o7NrvIb8rxE"
      },
      "source": [
        "## Definição - Regressão Logística\n",
        "\n",
        "> Uma regressão logística se comporta exatamente como um modelo linear: faz uma predição simplesmente computando uma soma ponderada dos atributos (*features*), mais uma constante chamada viés (*bias*), também chamado de constante (*intercept*). Porém ao invés de retornar um valor contínuo, como a regressão linear, retorna a função logística desse valor.\n",
        "\n",
        "$$\\operatorname{Logística}(x) = \\frac{1}{1 + e^{(-x)}}$$"
      ]
    },
    {
      "cell_type": "code",
      "execution_count": 1,
      "metadata": {
        "id": "ncrmTJl68rxE",
        "outputId": "0084672c-6cd0-4cd5-a062-2224b571c86f",
        "colab": {
          "base_uri": "https://localhost:8080/",
          "height": 376
        }
      },
      "outputs": [
        {
          "output_type": "error",
          "ename": "ModuleNotFoundError",
          "evalue": "No module named 'jupyterthemes'",
          "traceback": [
            "\u001b[0;31m---------------------------------------------------------------------------\u001b[0m",
            "\u001b[0;31mModuleNotFoundError\u001b[0m                       Traceback (most recent call last)",
            "\u001b[0;32m<ipython-input-1-61e6e5b77c9c>\u001b[0m in \u001b[0;36m<cell line: 0>\u001b[0;34m()\u001b[0m\n\u001b[1;32m      1\u001b[0m \u001b[0;32mimport\u001b[0m \u001b[0mnumpy\u001b[0m \u001b[0;32mas\u001b[0m \u001b[0mnp\u001b[0m\u001b[0;34m\u001b[0m\u001b[0;34m\u001b[0m\u001b[0m\n\u001b[1;32m      2\u001b[0m \u001b[0;32mimport\u001b[0m \u001b[0mmatplotlib\u001b[0m\u001b[0;34m.\u001b[0m\u001b[0mpyplot\u001b[0m \u001b[0;32mas\u001b[0m \u001b[0mplt\u001b[0m\u001b[0;34m\u001b[0m\u001b[0;34m\u001b[0m\u001b[0m\n\u001b[0;32m----> 3\u001b[0;31m \u001b[0;32mfrom\u001b[0m \u001b[0mjupyterthemes\u001b[0m \u001b[0;32mimport\u001b[0m \u001b[0mjtplot\u001b[0m\u001b[0;34m\u001b[0m\u001b[0;34m\u001b[0m\u001b[0m\n\u001b[0m\u001b[1;32m      4\u001b[0m \u001b[0mjtplot\u001b[0m\u001b[0;34m.\u001b[0m\u001b[0mstyle\u001b[0m\u001b[0;34m(\u001b[0m\u001b[0;34m)\u001b[0m\u001b[0;34m\u001b[0m\u001b[0;34m\u001b[0m\u001b[0m\n",
            "\u001b[0;31mModuleNotFoundError\u001b[0m: No module named 'jupyterthemes'",
            "",
            "\u001b[0;31m---------------------------------------------------------------------------\u001b[0;32m\nNOTE: If your import is failing due to a missing package, you can\nmanually install dependencies using either !pip or !apt.\n\nTo view examples of installing some common dependencies, click the\n\"Open Examples\" button below.\n\u001b[0;31m---------------------------------------------------------------------------\u001b[0m\n"
          ],
          "errorDetails": {
            "actions": [
              {
                "action": "open_url",
                "actionText": "Open Examples",
                "url": "/notebooks/snippets/importing_libraries.ipynb"
              }
            ]
          }
        }
      ],
      "source": [
        "import numpy as np\n",
        "import matplotlib.pyplot as plt\n",
        "from jupyterthemes import jtplot\n",
        "jtplot.style()"
      ]
    },
    {
      "cell_type": "code",
      "execution_count": 2,
      "metadata": {
        "id": "yXmZJ7up8rxF",
        "outputId": "8d04db95-63df-49c9-f640-e7ceb1d90b37",
        "colab": {
          "base_uri": "https://localhost:8080/",
          "height": 449
        }
      },
      "outputs": [
        {
          "output_type": "display_data",
          "data": {
            "text/plain": [
              "<Figure size 640x480 with 1 Axes>"
            ],
            "image/png": "[encoded data removed]"
          },
          "metadata": {}
        }
      ],
      "source": [
        "x = np.linspace(-10, 10, 100)\n",
        "sig = 1 / (1 + np.exp(-x))\n",
        "plt.plot(x, sig, \"b-\", linewidth=2, label=r\"$\\sigma(x) = \\frac{1}{1 + e^{-x}}$\")\n",
        "plt.xlabel(\"x\")\n",
        "plt.legend(loc=\"upper left\", fontsize=15)\n",
        "plt.show()"
      ]
    },
    {
      "cell_type": "markdown",
      "metadata": {
        "id": "AenyUUm38rxG"
      },
      "source": [
        "$$ \\operatorname{Linear} = \\theta_0 + \\theta_1 x_1 + \\theta_2 x_2 + \\dots + \\theta_n x_n$$\n",
        "\n",
        "$\\operatorname{Linear}$ - regressão linear\n",
        "\n",
        "$\\theta$ - parâmetro do modelo\n",
        "\n",
        "$n$ - número de atributos (*features*)\n",
        "\n",
        "$x_i$ - o valor do *inésimo* atributo (*feature*)\n",
        "\n",
        "$ \\hat{p} = \\sigma(\\operatorname{Linear}) = \\frac{1}{1 + e^{-\\operatorname{Linear}}}$\n",
        "\n",
        "$\\hat{p}$ - probabilidade prevista da observação ser 1\n",
        "\n",
        "$\\hat{y}=\\left\\{\\begin{array}{ll} 0 & \\text { se } \\hat{p} < 0.5 \\\\ 1 & \\text { se } \\hat{p} \\geq 0.5 \\end{array}\\right.$"
      ]
    },
    {
      "cell_type": "markdown",
      "metadata": {
        "id": "tvx0M_5f8rxG"
      },
      "source": [
        "### Exemplo\n",
        "\n",
        "$\\mathrm{Previsão~de~Morte} = \\sigma \\big(-10 + 10\\times \\mathrm{cancer} + 12 \\times \\mathrm{diabetes} + 8 \\times \\mathrm{obesidade} \\big)$"
      ]
    },
    {
      "cell_type": "code",
      "execution_count": null,
      "metadata": {
        "id": "FN0fSUqW8rxH"
      },
      "outputs": [],
      "source": [
        "def logistic(x):\n",
        "    return 1 / (1 + np.exp(-x))"
      ]
    },
    {
      "cell_type": "code",
      "execution_count": null,
      "metadata": {
        "id": "hvoDJ3_18rxH"
      },
      "outputs": [],
      "source": [
        "# somente obesa\n",
        "logistic(-10 + (10 * 1) + (12 * 1) + (8 * 1))"
      ]
    },
    {
      "cell_type": "markdown",
      "metadata": {
        "id": "tak_Nemk8rxI"
      },
      "source": [
        "## Métricas de Desempenho de uma Regressão Logística\n",
        "\n",
        "### MSE (?)\n",
        "$$MSE = \\frac{1}{m}\\Sigma_{i=1}^{m}{(\\hat{y}_i - y_i)^2}$$\n",
        "Nossa predição agora é não-linear (devido à transformação logística). Se nós elevarmos essa predição ao quadrado (como fazemos em MSE) resulta em uma função não convexa e com muitos local minima, portanto, inviabilizando o Método do Gradiente Descendente."
      ]
    },
    {
      "cell_type": "markdown",
      "metadata": {
        "id": "Y4VNNNmW8rxI"
      },
      "source": [
        "### *Log Loss*\n",
        "\n",
        "Se divide em duas métricas de desempenho\n",
        "\n",
        "$$Log~Loss=\\left\\{\\begin{array}{ll} -\\log(\\hat{p}) & \\text { se } y = 1 \\\\ -\\log(1 - \\hat{p}) & \\text { se } y = 0 \\end{array}\\right.$$\n",
        "\n",
        "Faz sentido porque:\n",
        "\n",
        "* $- \\log(\\hat{p})$ se torna grande quando $\\hat{p}$ se aproxima de 0 - Erro vai ser grande quando o modelo prevê $\\hat{p} \\approx 0$ mas $y = 1$\n",
        "* $- \\log(1 - \\hat{p})$ se torna grande quando $1- \\hat{p}$ se aproxima de 0 - Erro vai ser grande quando o modelo prevê $\\hat{p} \\approx 1$ mas $y = 0$"
      ]
    },
    {
      "cell_type": "code",
      "execution_count": null,
      "metadata": {
        "id": "nK0SGZ8o8rxJ"
      },
      "outputs": [],
      "source": [
        "fig, ax = plt.subplots(1,2, sharey=True)\n",
        "\n",
        "x = np.linspace(0.001, 0.999, 100)  # evitar erros pq log(0) é inf e log(1) é 0\n",
        "ax[0].plot(x, -np.log(x))\n",
        "ax[0].set_title('Se $y=1$')\n",
        "ax[0].set_xlabel('$\\hat{p}$')\n",
        "ax[0].set_ylabel('Erro')\n",
        "\n",
        "ax[1].plot(x, -np.log(1 - x))\n",
        "ax[1].set_title('Se $y=0$')\n",
        "ax[1].set_xlabel('$\\hat{p}$')\n",
        "\n",
        "plt.tight_layout()\n",
        "plt.show()"
      ]
    },
    {
      "cell_type": "markdown",
      "metadata": {
        "id": "vL7-gJ-N8rxJ"
      },
      "source": [
        "### Para todo o dataset\n",
        "\n",
        "$$Log~Loss = \\frac{1}{m} \\sum_{i=1}^{m} - \\big[y^{(i)} \\log (\\hat{p}^{(i)}) + (1-y^{(i)}) \\log (1-\\hat{p}^{(i)}) \\big]$$"
      ]
    },
    {
      "cell_type": "markdown",
      "metadata": {
        "id": "06X9jgSP8rxJ"
      },
      "source": [
        "## Exemplo com o Dataset Titanic\n",
        "\n",
        "Contém 891 passageiros reais do Titanic que afundou em 15/04/1912 matando 1502 de 2224 passageiros e tripulação que estavam a bordo.\n",
        "\n",
        "* `survived`: *dummy* `0` ou `1`\n",
        "* `pclass`: Classe do Passageiro\n",
        "    - `1`: Primeira Classe\n",
        "    - `2`: Segunda Classe\n",
        "    - `3`: Terceira Classe\n",
        "* `sex`: Sexo `male` ou `female`\n",
        "* `age`: Idade\n",
        "* `sibsp`: Número de Irmãos (*Siblings*) e Esposas (*spouse*) a bordo\n",
        "* `parch`: Número de pais/filhos a bordo\n",
        "* `fare`: Valor pago pela passagem em libras\n",
        "* `embarked`: Porto que embarcou\n",
        "    - `C`: Cherbourg\n",
        "    - `Q`: Queenstown\n",
        "    - `S`: Southampton)\n",
        "* `class`: Mesmo que `pclass` só que em texto\n",
        "* `adult_male`: *dummy* para `age > 16` e `sex == 'male'`\n",
        "* `deck`: Qual deck a cabine do passageiro se situava\n",
        "* `alive`: Mesmo que survived só que com `yes` ou `no`\n",
        "* `alone`: *dummy* para se viajava sozinho"
      ]
    },
    {
      "cell_type": "markdown",
      "metadata": {
        "id": "NrMP2FRq8rxJ"
      },
      "source": [
        "<img src=\"https://github.com/storopoli/ciencia-de-dados/blob/main/notebooks/images/titanic.png?raw=1\" alt=\"titanic\" style=\"width: 500px;\"/>"
      ]
    },
    {
      "cell_type": "code",
      "execution_count": null,
      "metadata": {
        "id": "DFFJTCuI8rxK"
      },
      "outputs": [],
      "source": [
        "import seaborn as sns\n",
        "import pandas as pd\n",
        "titanic = sns.load_dataset('titanic')\n",
        "\n",
        "feature_names = ['pclass', 'female', 'age', 'fare']\n",
        "titanic['female'] = titanic['sex'].map({'male': 0, 'female': 1})\n",
        "titanic.dropna(subset=feature_names, inplace=True)  #891 para 714\n",
        "\n",
        "X = titanic[feature_names]\n",
        "y = titanic['survived']"
      ]
    },
    {
      "cell_type": "code",
      "execution_count": null,
      "metadata": {
        "scrolled": true,
        "id": "O9squK4S8rxK"
      },
      "outputs": [],
      "source": [
        "X  # DataFrame somente com as colunas de feature_names"
      ]
    },
    {
      "cell_type": "code",
      "execution_count": null,
      "metadata": {
        "scrolled": true,
        "id": "5Y1wjqvk8rxL"
      },
      "outputs": [],
      "source": [
        "y  # Series da coluna survived"
      ]
    },
    {
      "cell_type": "code",
      "execution_count": null,
      "metadata": {
        "id": "7BsoV8j08rxL"
      },
      "outputs": [],
      "source": [
        "print('Nomes dos Atributos: ', feature_names, '\\n')\n",
        "print('Tamanho de X: ', X.shape, '\\n')\n",
        "print('Tamanho de y: ', y.shape, '\\n')"
      ]
    },
    {
      "cell_type": "markdown",
      "metadata": {
        "id": "5mRusjnj8rxL"
      },
      "source": [
        "### Quebrando dataset em `train` e `test`\n",
        "\n",
        "Usar a função do Scikit-Learn [`sklearn.model_selection.train_test_split()`](https://scikit-learn.org/stable/modules/generated/sklearn.model_selection.train_test_split.html)\n",
        "\n",
        "#### Argumentos:\n",
        "\n",
        "* matriz a ser dividida - `X` ou `y`\n",
        "* `test_size` - `float` ou `int` do tamanho do dataset de teste (padrão $0.25$)\n",
        "* `train_size` - padrão `1 - test_size`\n",
        "* `random_state` - `int` - seed do gerador de número randômicos (replicabilidade)"
      ]
    },
    {
      "cell_type": "code",
      "execution_count": null,
      "metadata": {
        "id": "z1t54DRw8rxL"
      },
      "outputs": [],
      "source": [
        "from sklearn.model_selection import train_test_split\n",
        "\n",
        "X_train, X_test, y_train, y_test = train_test_split(X, y, test_size=0.25, random_state=123)"
      ]
    },
    {
      "cell_type": "code",
      "execution_count": null,
      "metadata": {
        "id": "LxkBSBMR8rxM"
      },
      "outputs": [],
      "source": [
        "print('Tamanho de X_train: ', X_train.shape, '\\n')\n",
        "print('Tamanho de X_test: ', X_test.shape, '\\n')\n",
        "print('Tamanho de y_train: ', y_train.shape, '\\n')\n",
        "print('Tamanho de y_test: ', y_test.shape, '\\n')"
      ]
    },
    {
      "cell_type": "markdown",
      "metadata": {
        "id": "9iZ4IZLT8rxM"
      },
      "source": [
        "### Regressão Logística\n",
        "Usar a classe do Scikit-Learn [`sklearn.linear_model.LogisticRegression()`](https://scikit-learn.org/stable/modules/generated/sklearn.linear_model.LogisticRegression.html)\n",
        "\n",
        "#### Argumentos:\n",
        "* `max_iter` - `int` - Número máximo de iterações do *Gradient Descent*\n",
        "    * padrão `100`\n",
        "* `random_state` - `int` - seed do gerador de número randômicos (replicabilidade)\n",
        "* `n_jobs` - `int` - Número de núcleos de processamento que será utilizado em paralelo\n",
        "    * `None` - padrão\n",
        "    * `-1` - usa todos os núcleos\n",
        "\n",
        "#### Retorna:\n",
        "* Objeto `estimator` do Scikit-Learn"
      ]
    },
    {
      "cell_type": "code",
      "execution_count": null,
      "metadata": {
        "id": "Vkl3VWeH8rxM"
      },
      "outputs": [],
      "source": [
        "from sklearn.linear_model import LogisticRegression\n",
        "\n",
        "clf = LogisticRegression(n_jobs=-1, random_state=123)"
      ]
    },
    {
      "cell_type": "markdown",
      "metadata": {
        "id": "QjhchSiB8rxM"
      },
      "source": [
        "### Classe `Estimators`\n",
        "\n",
        "* `.fit()` - Treina o Modelo\n",
        "    * `X`\n",
        "    * `y`\n",
        "* `.predict()` - Gera predições do modelo\n",
        "    * `X`\n",
        "* `.coef_` - Retorna os coeficientes do modelo ($\\theta_i$)\n",
        "* `.intercept_` - Retorna o viés/constante (*bias/intercept*) do modelo ($\\theta_0$)"
      ]
    },
    {
      "cell_type": "code",
      "execution_count": null,
      "metadata": {
        "id": "JCOf7hWE8rxN"
      },
      "outputs": [],
      "source": [
        "clf.fit(X_train, y_train)"
      ]
    },
    {
      "cell_type": "code",
      "execution_count": null,
      "metadata": {
        "id": "4UYOniGU8rxN"
      },
      "outputs": [],
      "source": [
        "# Coeficientes do modelo\n",
        "for feature, coef in zip(feature_names, clf.coef_[0].tolist()):\n",
        "    print(f\"{feature}: {round(coef, 3)}\")\n",
        "\n",
        "# Constante do modelo\n",
        "print(f\"Constante: {round(clf.intercept_[0], 3)}\")"
      ]
    },
    {
      "cell_type": "code",
      "execution_count": null,
      "metadata": {
        "id": "EJqyRLPW8rxN"
      },
      "outputs": [],
      "source": [
        "# Caso de uma mulher na 3ª classe com idade 33 e que pagou £0.5\n",
        "#         θ_0  +  θ_1 * x_1  +  θ_2 * x_2  +  θ_3 * x_3    +  θ_4 * x_4\n",
        "logistic(1.828 + (-1.11 * 3) + (2.477 * 1) + (-0.028 * 33) + (0.5 * 0.002))"
      ]
    },
    {
      "cell_type": "code",
      "execution_count": null,
      "metadata": {
        "id": "hkCkngyC8rxO"
      },
      "outputs": [],
      "source": [
        "# Caso de uma homem na 3ª classe com idade 50 e que pagou £2\n",
        "#         θ_0  +  θ_1 * x_1  +  θ_2 * x_2  +  θ_3 * x_3    +  θ_4 * x_4\n",
        "logistic(1.828 + (-1.11 * 3) + (2.477 * 0) + (-0.028 * 50) + (2 * 0.002))"
      ]
    },
    {
      "cell_type": "markdown",
      "metadata": {
        "id": "-tsnTri_8rxO"
      },
      "source": [
        "### Acurácia do Modelo\n",
        "Usar a função do Scikit-Learn [`sklearn.metrics.accuracy_score()`](https://scikit-learn.org/stable/modules/generated/sklearn.metrics.accuracy_score.html)\n",
        "\n",
        "Retorna um score de acurácia `float` entre $0$ e $1$\n",
        "\n",
        "#### Argumentos\n",
        "* `y_true`: Classes Verdadeiras\n",
        "    * 2 classes: vetor (1-D)\n",
        "    * Mais que 2 classes: matriz (2-D)\n",
        "* `y_pred`: Classes Previstas pelo Modelo\n",
        "    * 2 classes: vetor (1-D)\n",
        "    * Mais que 2 classes: matriz (2-D)"
      ]
    },
    {
      "cell_type": "code",
      "execution_count": null,
      "metadata": {
        "scrolled": true,
        "id": "M00rG2Oi8rxO"
      },
      "outputs": [],
      "source": [
        "from sklearn.metrics import accuracy_score\n",
        "\n",
        "y_train_true = y_train\n",
        "y_train_pred = clf.predict(X_train)\n",
        "y_test_true = y_test\n",
        "y_test_pred = clf.predict(X_test)\n",
        "\n",
        "\n",
        "print(f\"Acurácia de Treino: {round(accuracy_score(y_train_true, y_train_pred), 2)}\")\n",
        "print('\\n ---------------------------\\n')\n",
        "print(f\"Acurácia de Teste: {round(accuracy_score(y_test_true, y_test_pred), 2)}\")"
      ]
    },
    {
      "cell_type": "markdown",
      "metadata": {
        "id": "zAb3R8f28rxO"
      },
      "source": [
        "## Expandindo para $k$ classes\n",
        "\n",
        "Podemos usar Regressão Logística para mais de uma duas classes ($k > 2$)"
      ]
    },
    {
      "cell_type": "markdown",
      "metadata": {
        "id": "yHwlIt2u8rxO"
      },
      "source": [
        "### Função Softmax\n",
        "\n",
        "Dado um vetor $\\mathbf{x}$, a função Softmax computa um score $s_k(\\mathbf{x})$ para cada classe $k$, então estima a probabilidade de cada classe.\n",
        "\n",
        "$$\\hat{p}_k = \\sigma(\\mathbf{s}(\\mathbf{x}))_k = \\frac{e^{s_k(\\mathbf{x})}}{\\sum_{j=1}^K e^{s_j(\\mathbf{x})}}$$\n",
        "\n",
        "* $K$ - número de classes\n",
        "* $\\mathbf{s}(\\mathbf{x})$ - vetor contendo todos os scores de cada classe de uma observação $x$\n",
        "* $\\sigma(\\mathbf{s}(\\mathbf{x}))_k$ - a probabilidade estimada ($\\hat{p}_k$) que a obsevação $x$ pertence a classe $k$, dado os scores de cada classe para $x$"
      ]
    },
    {
      "cell_type": "code",
      "execution_count": null,
      "metadata": {
        "id": "H_LYcHg08rxP"
      },
      "outputs": [],
      "source": [
        "# Exemplo para 3 classes\n",
        "# p_hat = [0.25, 0.50, 0.25]\n",
        "# y_hat = 2 # indice 2"
      ]
    },
    {
      "cell_type": "markdown",
      "metadata": {
        "id": "EdmhVNG78rxP"
      },
      "source": [
        "### Regressão Softmax\n",
        "\n",
        "Que nem a Regressão Logística, a Regressão Softmax prevê a classe com maior probabilidade estimada (que é simplesmente a classe com o maior score)\n",
        "\n",
        "$$\\hat{y} = \\max_k \\sigma(\\mathbf{s}(\\mathbf{x}))_k = \\max_k s_k(\\mathbf{x})$$"
      ]
    },
    {
      "cell_type": "markdown",
      "metadata": {
        "id": "s2w16C-C8rxP"
      },
      "source": [
        "### Regressão Softmax (Regressão Logística Multinomial)\n",
        "Usar a função do Scikit-Learn [`sklearn.linear_model.Logistic Regression()`](https://scikit-learn.org/stable/modules/generated/sklearn.linear_model.LogisticRegression.html)\n",
        "\n",
        "Não possui opções de controle da taxa de aprendizagem do Método do Gradiente Descendente\n",
        "\n",
        "#### Argumentos:\n",
        "* `multi_class` - `str`\n",
        "    * `'ovr'` - Binário ($k=2$)\n",
        "    * `'multinomial'` - Multiclasses ($k > 2$)\n",
        "    * `'auto'` - se baseia nas dimensões da `array` `y` que é passada no `.fit()`\n",
        "* `max_iter` - `int` - Número máximo de iterações do *Gradient Descent*\n",
        "* `tol` - Tolerância - Critério de parada de treino\n",
        "* `random_state` - `int` - seed do gerador de número randômicos (replicabilidade)\n",
        "\n",
        "#### Retorna:\n",
        "* Objeto `estimator` do Scikit-Learn\n",
        "\n",
        "#### O que muda da Regressão Logística?\n",
        "Agora o meu $y$ é uma matriz (2-D) e não um vetor (1-D)"
      ]
    },
    {
      "cell_type": "markdown",
      "metadata": {
        "id": "yveRpV348rxP"
      },
      "source": [
        "### Métrica de Desempenho de uma Regressão Softmax\n",
        "\n",
        "**Cross Entropy**: Estender a Log Loss para mais que duas classes\n",
        "\n",
        "$$Cross~Entropy = -\\frac{1}{m} \\sum_{i=1}^{m} \\sum_{k=1}^K y_k^{(i)} \\log (\\hat{p}_k^{(i)})$$\n",
        "\n",
        "* $y_k^{(i)}$ é a probabilidade alvo que a observação $i$ pertence à classe $k$. De maneira geral, ou é $1$ ou $0$, dependendo de qual classe $i$ pertence."
      ]
    },
    {
      "cell_type": "markdown",
      "metadata": {
        "id": "F57DS6hb8rxP"
      },
      "source": [
        "## Atividade - Regressão com o dataset [Iris](https://scikit-learn.org/stable/datasets/index.html#iris-dataset)\n",
        "\n",
        "Edgar Anderson coletou os dados para quantificar a variação morfológica das flores de íris de três espécies relacionadas.\n",
        "\n",
        "O conjunto de dados consiste em 50 amostras de cada uma das três espécies de Iris (Setosa, Virginica e Versicolor). Quatro características foram medidas em cada amostra (cm):\n",
        "\n",
        "* $N = 150$\n",
        "* Atributos: 4\n",
        "    * `sepal length (cm)` - Cumprimento da Sépala\n",
        "    * `sepal width (cm)` - Largura da Sépala\n",
        "    * `petal length (cm)` - Cumprimento da Pétala\n",
        "    * `petal width (cm)` - Largua da Sépala\n",
        "* Variável dependente: Tipo de espécie de Iris\n",
        "    * `0` - Setosa\n",
        "    * `1` - Virginica\n",
        "    * `2` - Versicolor\n",
        "\n",
        "* Achar a acurácia do modelo nos dados de teste e os respectivos coeficientes dos atributos ($\\theta_i$) e viés/constante ($\\theta_0$)\n",
        "\n",
        ">Obs: usar `test_size = 0.25` e `random_state = 123`"
      ]
    },
    {
      "cell_type": "markdown",
      "metadata": {
        "id": "uAdyDXpE8rxQ"
      },
      "source": [
        "<img src=\"https://github.com/storopoli/ciencia-de-dados/blob/main/notebooks/images/iris-species.png?raw=1\" alt=\"iris-sepals-petals\" style=\"width: 600px;\"/>"
      ]
    },
    {
      "cell_type": "code",
      "execution_count": null,
      "metadata": {
        "id": "VF3nJQ1Y8rxQ"
      },
      "outputs": [],
      "source": [
        "from sklearn.datasets import load_iris\n",
        "\n",
        "iris = load_iris()\n",
        "X = iris['data']\n",
        "y = iris['target']"
      ]
    },
    {
      "cell_type": "code",
      "execution_count": null,
      "metadata": {
        "id": "DhCR3LIz8rxQ"
      },
      "outputs": [],
      "source": [
        "print('Nomes dos Atributos: ', iris['feature_names'], '\\n')\n",
        "print('Tamanho de X: ', X.shape, '\\n')\n",
        "print('Tamanho de y: ', y.shape, '\\n')"
      ]
    },
    {
      "cell_type": "code",
      "execution_count": null,
      "metadata": {
        "id": "WSfPvcqh8rxQ"
      },
      "outputs": [],
      "source": [
        "from sklearn.model_selection import train_test_split\n",
        "\n",
        "X_train, X_test, y_train, y_test = train_test_split(X, y, test_size=0.25, random_state=123)"
      ]
    },
    {
      "cell_type": "code",
      "execution_count": null,
      "metadata": {
        "id": "sVCcWrNB8rxQ"
      },
      "outputs": [],
      "source": [
        "print('Tamanho de X_train: ', X_train.shape, '\\n')\n",
        "print('Tamanho de X_test: ', X_test.shape, '\\n')\n",
        "print('Tamanho de y_train: ', y_train.shape, '\\n')\n",
        "print('Tamanho de y_test: ', y_test.shape, '\\n')"
      ]
    },
    {
      "cell_type": "code",
      "execution_count": null,
      "metadata": {
        "id": "XxHx-SGa8rxR"
      },
      "outputs": [],
      "source": [
        "from sklearn.linear_model import LogisticRegression"
      ]
    }
  ],
  "metadata": {
    "celltoolbar": "Slideshow",
    "kernelspec": {
      "display_name": "Python 3 (ipykernel)",
      "language": "python",
      "name": "python3"
    },
    "language_info": {
      "codemirror_mode": {
        "name": "ipython",
        "version": 3
      },
      "file_extension": ".py",
      "mimetype": "text/x-python",
      "name": "python",
      "nbconvert_exporter": "python",
      "pygments_lexer": "ipython3",
      "version": "3.10.4"
    },
    "rise": {
      "autolaunch": true,
      "enable_chalkboard": true,
      "progress": true,
      "scroll": true,
      "slideNumber": true,
      "theme": "black"
    },
    "colab": {
      "provenance": []
    }
  },
  "nbformat": 4,
  "nbformat_minor": 0
}